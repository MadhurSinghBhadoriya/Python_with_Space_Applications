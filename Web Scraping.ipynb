{
 "cells": [
  {
   "cell_type": "markdown",
   "metadata": {},
   "source": [
    "# Web Scraping"
   ]
  },
  {
   "cell_type": "markdown",
   "metadata": {},
   "source": [
    "To perform web scraping, you should also import the libraries shown below. The urllib.request module is used to open URLs. The Beautiful Soup package is used to extract data from html files."
   ]
  },
  {
   "cell_type": "code",
   "execution_count": 1,
   "metadata": {},
   "outputs": [],
   "source": [
    "from urllib.request import urlopen\n",
    "from bs4 import BeautifulSoup"
   ]
  },
  {
   "cell_type": "markdown",
   "metadata": {},
   "source": [
    "The Beautiful Soup library's name is bs4 which stands for Beautiful Soup, version 4."
   ]
  },
  {
   "cell_type": "markdown",
   "metadata": {},
   "source": [
    "After importing necessary modules, you should specify the URL containing the dataset and pass it to urlopen() to get the html of the page."
   ]
  },
  {
   "cell_type": "code",
   "execution_count": 32,
   "metadata": {},
   "outputs": [
    {
     "data": {
      "text/plain": [
       "<http.client.HTTPResponse at 0x195683434f0>"
      ]
     },
     "execution_count": 32,
     "metadata": {},
     "output_type": "execute_result"
    }
   ],
   "source": [
    "url = \"https://google.com\"\n",
    "html = urlopen(url)\n",
    "html"
   ]
  },
  {
   "cell_type": "code",
   "execution_count": 33,
   "metadata": {},
   "outputs": [],
   "source": [
    "soup = BeautifulSoup(html, 'html')"
   ]
  },
  {
   "cell_type": "code",
   "execution_count": 34,
   "metadata": {},
   "outputs": [
    {
     "data": {
      "text/plain": [
       "'GoogleSearch Images Maps Play YouTube News Gmail Drive More »Web History | Settings | Sign in\\xa0Advanced searchGoogle offered in:  हिन्दी বাংলা తెలుగు मराठी தமிழ் ગુજરાતી ಕನ್ನಡ മലയാളം ਪੰਜਾਬੀ Advertising\\xa0ProgramsBusiness SolutionsAbout GoogleGoogle.co.in© 2021 - Privacy - Terms   '"
      ]
     },
     "execution_count": 34,
     "metadata": {},
     "output_type": "execute_result"
    }
   ],
   "source": [
    "soup.get_text()"
   ]
  },
  {
   "cell_type": "markdown",
   "metadata": {},
   "source": [
    "# Filter data"
   ]
  },
  {
   "cell_type": "code",
   "execution_count": 40,
   "metadata": {},
   "outputs": [
    {
     "data": {
      "text/plain": [
       "\" \\n\\n\\n\\n\\n\\n\\nNational Spaceonova Asteroid Search Campaign – Space Education and Research Based Company | Spaceonova | India\\n\\n\\n\\n\\n\\n\\n\\n\\n\\n\\n\\n\\n\\n\\n\\n\\n\\n\\n\\n\\n\\n\\n\\n\\n\\n\\n\\n\\n\\n\\n\\n\\n\\n\\n\\n\\n\\n\\n\\n\\n\\n\\n\\n\\n\\n\\n\\n\\n\\n\\n\\n\\n\\n\\n\\n\\n\\n\\n\\n\\n\\n\\n\\n\\n\\n\\n\\n\\n\\n\\n\\n\\n\\n\\n\\n\\n\\n\\n\\n\\n\\n\\n\\n\\n\\n\\n\\n\\n\\n\\n\\n\\n\\nSpace Education and Research Based Company | Spaceonova | India \\n\\n\\n\\n\\n\\n\\n\\n\\n\\nHome\\n\\n\\n\\n\\n\\n\\nAbout\\n\\n\\n\\n\\nAbout us\\n\\n\\n\\n\\nTeam\\n\\n\\n\\n\\nMentors\\n\\n\\n\\n\\nGallery\\n\\n\\n\\n\\nTestimonials\\n\\n\\n\\n\\nFriends of Spaceonova\\n\\n\\n\\n\\n\\n\\n\\n\\nServices\\n\\n\\n\\n\\nAll Services\\n\\n\\n\\n\\nTraining Programme\\n\\n\\n\\n\\nMasterclass\\n\\n\\n\\n\\nWebinar\\n\\n\\n\\n\\nPodcast\\n\\n\\n\\n\\n\\n\\n\\n\\nBlog\\n\\n\\n\\n\\n\\n\\nEvents\\n\\n\\n\\n\\nAll Events\\n\\n\\n\\n\\nSpace Science Challenge\\n\\n\\n\\n\\nNational Spaceonova Asteroid Search Campaign\\n\\n\\n\\n\\nWorld Space Week\\n\\n\\n\\n\\n\\n\\n\\n\\nCareer\\n\\n\\n\\n\\nApply for Internship\\n\\n\\n\\n\\nPast interns and trainees\\n\\n\\n\\n\\n\\n\\n\\n\\nCommunity\\n\\n\\n\\n\\nSpace Guilds\\n\\n\\n\\n\\nBecome Space Ambassador\\n\\n\\n\\n\\n\\n\\n\\n\\n \\n\\n\\n\\nLearn Now \\n\\n\\n\\n\\n\\n\\n\\n\\n\\n\\n\\n\\n\\n\\n\\n\\n\\n\\n\\n\\n\\n\\n\\n\\n\\n\\n\\n\\n\\nHomeEventsNational Spaceonova Asteroid S...\\n\\n\\n\\nNational Spaceonova Asteroid Search Campaign\\n\\n\\n\\n\\n\\n \\n\\n\\n\\n\\n\\n\\n\\n\\n\\n\\n\\n\\n\\n\\n\\n\\n\\n\\n\\n\\n \\n\\n\\n\\n\\n\\n\\n\\n\\n\\n\\n\\n\\n\\n\\n\\n\\n\\nNational Spaceonova Asteroid Search Campaign (NSASC)\\xa0is brought to you by\\xa0Spaceonova\\xa0in collaboration with The International Astronomical Search Collaboration (IASC), National Spaceonova Asteroid Search Campaign is a citizen science program that provides high-quality astronomical data to students and astronomers around the world. Participants of this asteroid search campaign (also referred as citizen scientists) are able to make original astronomical discoveries and participate in hands-on astronomy. This program comes in collaboration with NASA, Pan – STARRS Observatory and Catalina Sky Survey Observatory. This service is provided at no cost! \\n\\n\\n\\n\\n\\n\\n\\n\\n\\n\\n\\n\\n\\n\\n\\n\\n\\nTheGuidelines\\n \\n\\n\\n\\n\\n\\n\\n\\n\\n\\n\\n\\n\\n\\n\\n\\n\\n\\n\\n\\n\\n\\n\\n\\n\\nhttps://youtu.be/sjBlxJsilnA \\n\\n\\n\\n\\n\\n\\n\\n\\n\\n\\n\\n\\n\\n\\n\\n Every team would contain 4 members. All team members must register separately.Participants should have access to proper internet connection and must be operating on Windows OS.A total of 15 teams will be selected globally to participate in the National Spaceonova Asteroid Search Campaign September 2021.Participants will be selected on the basis of the Selection Criteria:- -> Their response to Question 8 and 9 in the registration form. -> Submission of the task as mentioned in the email, which will be sent after the completion of the form.Participants must be available throughout the campaign from September 1 - September 30, 2021. Participants of any nationality can apply. 🚀 \\n\\n\\n\\n\\n\\n\\n\\n\\n\\n\\n\\n\\n\\n\\n\\n\\nTheProcedure\\n \\n\\n\\n\\n\\n\\n\\n\\n\\n\\n\\n\\n\\n\\n\\n \\n\\n\\n\\n Registration Begins - August 1, 2021\\n\\nParticipants can start registering for the campaign in team of four as per the given guidelines.\\n\\n\\n\\n\\n\\n\\n\\n\\n\\n \\n\\n\\n\\nRegistration Ends - August 21, 2021\\n\\nThe last date for registration is 21st August 2021, 6 PM IST\\n\\n\\n\\n\\n\\n\\n\\n\\n\\n \\n\\n\\n\\nSelected Candidates - August 25, 2021\\n\\nList of selected teams based on their response to the given form will be released.\\n\\n\\n\\n\\n\\n\\n\\n\\n\\n \\n\\n\\n\\nTraining Premieres - August 30, 2021\\n\\nA training video on how to discover asteroids using Astrometrica under the guidance of Mr. Joshi Yogeshkumar Dileepkumar, Master Teacher at the IASC will be premiered on our YouTube channel.\\n\\n\\n\\n\\n\\n\\n\\n\\n\\n \\n\\n\\n\\nCampaign Commences - September 1, 2021\\n\\nThe selected candidates will begin their journey as citizen scientists to analyse images from Pan-STARRS to make original observations of near-Earth objects and Main Belt asteroids which contributes to the NASA's  Near-Earth Object (NEO) Observations Program at the Jet Propulsion Laboratory (Pasadena). \\n\\n\\n\\n\\n\\n\\n\\n\\n\\n \\n\\n\\n\\nAnnouncement of Discoveries\\n\\nCitizen Scientists will receive certificates from NASA for their preliminary discoveries of asteroids soon after the campaign.\\nHowever, recognition for provisional discoveries can take upto one year and for numbered discovery, upto three or five years.\\n\\n\\n\\n\\n\\n\\n\\n\\n\\n\\n\\n\\n\\n\\n\\n\\n\\n\\n\\n\\n\\n\\n \\nRegistrations Now Closed\\n\\n\\n\\n\\n\\n\\n\\n\\n\\n\\n\\n\\n\\n\\n\\n\\n\\n\\n\\n\\n\\n\\n\\n\\n\\n\\n\\n\\nFrequentlyaskedquestions\\n \\n\\n\\n\\nAm I eligible to participate?Anyone with scientific temperament, proper internet connection and Windows operating system are eligible to participate.What happens after a preliminary discovery?A preliminary discovery is the first, original\\xa0observation of new asteroid.\\u2063\\u2063The asteroid must be observed a second time within the next 7-10 days.\\u2063\\u2063If it is, then the discovery is changed to provisional status by the Minor Planet Center (MPC). Asteroid discoveries with provisional status are maintained in the MPC database for many years, until there have been a sufficient number of observations to fully determine the orbit. That process typically takes 3-10 years, at which point the asteroid is numbered and cataloged by the International Astronomical Union.\\u2063\\u2063Numbered asteroids can be named by their citizen scientist discoverers.\\u2063\\u2063Happy Hunting!!\\u2063Do I need a telescope to participate in the NSASC?No, You will be provided with high-quality astronomical data to analyse through our campaign itself.From where to download the Astrometrica software?You can download Astrometrica from\\xa0here.Does Astrometrica run on Mac OS?No,\\xa0Astrometrica\\xa0works only on Windows or Linux systems.How can I increase chances of getting a provisional discovery?Analyse and submit the report of your respective data set within 1 hour of receiving the same.From where can we know more about the IASC and the Astrometrica?You can contact the Team Spaceonova for any specific details at coo@spaceonova.com or just visit the IASC's FAQ section here.Is this campaign conducted in offline mode?No, The National Spaceonova Asteroid Search Campaign is conducted in online mode itself. \\n\\n\\n\\n\\n\\n\\n\\n\\n\\n\\n\\n\\n\\n\\n\\n\\n\\n\\n\\n\\n\\n\\n\\n\\n\\n\\n\\n \\nHistory of NSASC\\n\\n\\n\\n\\n\\n\\n\\n\\n\\n\\n\\n\\n\\n\\n\\n \\n\\n \\n\\n \\n\\n\\n\\n\\n\\n\\n\\n\\n\\n\\n\\n\\n\\n\\n\\n\\n\\n\\n\\n\\n\\nSpace Education and Research Based Company | Spaceonova | India \\n\\n\\n\\n\\nYour Partner in Space. \\n\\n\\n\\n\\n\\nContact us :\\xa0network@spaceonova.com+91 91822 69974 \\n\\n\\n\\n\\n\\n\\n\\n\\n\\n\\nQUICk LINKS \\n\\n\\n\\nSpace Ambassador ProgrammeApply for InternshipsSpace NewsAbout UsServicesEventsTerms of usePrivacy Policy \\n\\n\\n\\n\\n\\n\\n\\n\\n\\n\\nADDRESSOperational Office: Azad Hind Fauj Marg, Phase 1, Dwarka, New Delhi, Delhi 110078, IndiaHead Office: Aadarshgram, Road No. 1, Gali D, Kolhua Paigambarpur, Muzaffarpur, Bihar  843108, India\\n \\n\\n\\n\\n\\n\\n\\n\\n\\n\\nREACH OUT TO US:\\n \\n\\n\\n\\nPlease enable JavaScript in your browser to complete this form.Name *FirstLastEmail *Your Message *Submit  \\n\\n\\n\\n\\n\\n\\n\\n\\n\\n\\n\\n\\n\\n\\n\\n\\n© 2021 SPACEONOVA PVT. LTD. \\n\\n\\n\\n\\n\\n\\n\\n\\n\\n\\n\\n\\n\\nFacebook\\n \\n\\n\\n\\nTwitter\\n \\n\\n\\n\\nYoutube\\n \\n\\n\\n\\nLinkedin\\n \\n\\n\\n\\nInstagram\\n \\n\\n\\n\\nEnvelope\\n \\n\\n\\n\\n\\n\\n\\n\\n\\n\\n\\n\\n\\n\\n\\n\\n\\n\\n\\n\\n\\n\\n\\n\\n\\n\\n\\n\\n\\n\\n\\n\\n\\n\\n\\n                Shopping Basket            \\n\\n\\n\\n\\n\\n\\n\\n\\n\\n\\n\\n\\n\\n\\n\\n\\n\\n\\n\\n\\n\\n\\n\\n\\n\\n\\n\\n\\n\\n\\n\\n\\n\\n\\n\\n\\n\\n\\n\\n\\n\\n\\n\\n\\n\\n\\n   \\n\\n\\n\\n\\n\\n\\n\\n\\n\\n\\n\\n\\n\\n\\n\\n\\n\\n\\n\\n\\n\\n\\n\\n\\n\\n\\n\\n\\n\\n\\n\\n\\n\\n\\n\\n\\n\\n\\n\\n\\n\\n\\n\\n\\n\\n\\n\\n\\n\\n\\n\\n\\n\\n\\n\\n\\n\""
      ]
     },
     "execution_count": 40,
     "metadata": {},
     "output_type": "execute_result"
    }
   ],
   "source": [
    "    url = \"https://spaceonova.com/events/national-spaceonova-asteroid-search-campaign/\"\n",
    "html = urlopen(url)\n",
    "soup = BeautifulSoup(html, 'html')\n",
    "soup.get_text()"
   ]
  },
  {
   "cell_type": "code",
   "execution_count": 43,
   "metadata": {},
   "outputs": [
    {
     "data": {
      "text/plain": [
       "[<img alt=\"spaceonova space education and exploration company\" class=\"aux-attachment aux-featured-image attachment-312x100 aux-attachment-id-103\" data-original-w=\"312\" data-ratio=\"3.12\" height=\"100\" src=\"https://spaceonova.com/wp-content/uploads/2021/08/logo-for-website-e1628318263380.png\" width=\"312\"/>,\n",
       " <img alt=\"\" class=\"attachment-full size-full\" height=\"1024\" loading=\"lazy\" src=\"https://spaceonova.com/wp-content/uploads/2021/08/WhatsApp-Image-2021-08-01-at-4.09.26-PM.jpeg\" width=\"1280\"/>,\n",
       " <img alt=\"spaceonova space education and exploration company\" class=\"aux-attachment aux-featured-image attachment-312x100 aux-attachment-id-103\" data-original-w=\"312\" data-ratio=\"3.12\" height=\"100\" src=\"https://spaceonova.com/wp-content/uploads/2021/08/logo-for-website-e1628318263380.png\" width=\"312\"/>]"
      ]
     },
     "execution_count": 43,
     "metadata": {},
     "output_type": "execute_result"
    }
   ],
   "source": [
    "soup.find_all('img')"
   ]
  },
  {
   "cell_type": "code",
   "execution_count": null,
   "metadata": {},
   "outputs": [],
   "source": []
  },
  {
   "cell_type": "code",
   "execution_count": 44,
   "metadata": {},
   "outputs": [
    {
     "data": {
      "text/plain": [
       "[<a class=\"aux-logo-anchor aux-has-logo\" href=\"https://spaceonova.com/\" title=\"Space Education and Research Based Company | Spaceonova | India\"><img alt=\"spaceonova space education and exploration company\" class=\"aux-attachment aux-featured-image attachment-312x100 aux-attachment-id-103\" data-original-w=\"312\" data-ratio=\"3.12\" height=\"100\" src=\"https://spaceonova.com/wp-content/uploads/2021/08/logo-for-website-e1628318263380.png\" width=\"312\"/></a>,\n",
       " <a href=\"https://spaceonova.com/\" title=\"Space Education and Research Based Company | Spaceonova | India\">Space Education and Research Based Company | Spaceonova | India</a>,\n",
       " <a class=\"aux-item-content\" href=\"https://spaceonova.com/\">\n",
       " <span class=\"aux-menu-label\">Home</span>\n",
       " </a>,\n",
       " <a class=\"aux-item-content\" href=\"#\">\n",
       " <span class=\"aux-menu-label\">About</span>\n",
       " </a>,\n",
       " <a class=\"aux-item-content\" href=\"https://spaceonova.com/about-us/\">\n",
       " <span class=\"aux-menu-label\">About us</span>\n",
       " </a>,\n",
       " <a class=\"aux-item-content\" href=\"https://spaceonova.com/about-us/team/\">\n",
       " <span class=\"aux-menu-label\">Team</span>\n",
       " </a>,\n",
       " <a class=\"aux-item-content\" href=\"https://spaceonova.com/about-us/mentors/\">\n",
       " <span class=\"aux-menu-label\">Mentors</span>\n",
       " </a>,\n",
       " <a class=\"aux-item-content\" href=\"https://spaceonova.com/about-us/gallery/\">\n",
       " <span class=\"aux-menu-label\">Gallery</span>\n",
       " </a>,\n",
       " <a class=\"aux-item-content\" href=\"https://spaceonova.com/testimonials/\">\n",
       " <span class=\"aux-menu-label\">Testimonials</span>\n",
       " </a>,\n",
       " <a class=\"aux-item-content\" href=\"#\">\n",
       " <span class=\"aux-menu-label\">Friends of Spaceonova</span>\n",
       " </a>,\n",
       " <a class=\"aux-item-content\" href=\"#\">\n",
       " <span class=\"aux-menu-label\">Services</span>\n",
       " </a>,\n",
       " <a class=\"aux-item-content\" href=\"https://spaceonova.com/services/\">\n",
       " <span class=\"aux-menu-label\">All Services</span>\n",
       " </a>,\n",
       " <a class=\"aux-item-content\" href=\"https://spaceonova.com/services/training-programme/\">\n",
       " <span class=\"aux-menu-label\">Training Programme</span>\n",
       " </a>,\n",
       " <a class=\"aux-item-content\" href=\"https://spaceonova.com/services/masterclass/\">\n",
       " <span class=\"aux-menu-label\">Masterclass</span>\n",
       " </a>,\n",
       " <a class=\"aux-item-content\" href=\"https://spaceonova.com/services/webinar/\">\n",
       " <span class=\"aux-menu-label\">Webinar</span>\n",
       " </a>,\n",
       " <a class=\"aux-item-content\" href=\"https://spaceonova.com/services/podcast/\">\n",
       " <span class=\"aux-menu-label\">Podcast</span>\n",
       " </a>,\n",
       " <a class=\"aux-item-content\" href=\"https://blog.spaceonova.com\" target=\"_blank\">\n",
       " <span class=\"aux-menu-label\">Blog</span>\n",
       " </a>,\n",
       " <a class=\"aux-item-content\" href=\"#\">\n",
       " <span class=\"aux-menu-label\">Events</span>\n",
       " </a>,\n",
       " <a class=\"aux-item-content\" href=\"https://spaceonova.com/events/\">\n",
       " <span class=\"aux-menu-label\">All Events</span>\n",
       " </a>,\n",
       " <a class=\"aux-item-content\" href=\"https://ssc.spaceonova.com\">\n",
       " <span class=\"aux-menu-label\">Space Science Challenge</span>\n",
       " </a>,\n",
       " <a class=\"aux-item-content\" href=\"https://spaceonova.com/events/national-spaceonova-asteroid-search-campaign/\">\n",
       " <span class=\"aux-menu-label\">National Spaceonova Asteroid Search Campaign</span>\n",
       " </a>,\n",
       " <a class=\"aux-item-content\" href=\"https://spaceonova.com/world-space-week/\">\n",
       " <span class=\"aux-menu-label\">World Space Week</span>\n",
       " </a>,\n",
       " <a class=\"aux-item-content\" href=\"#\">\n",
       " <span class=\"aux-menu-label\">Career</span>\n",
       " </a>,\n",
       " <a class=\"aux-item-content\" href=\"https://spaceonova.com/apply-for-internship/\">\n",
       " <span class=\"aux-menu-label\">Apply for Internship</span>\n",
       " </a>,\n",
       " <a class=\"aux-item-content\" href=\"https://spaceonova.com/past-interns-and-trainees/\">\n",
       " <span class=\"aux-menu-label\">Past interns and trainees</span>\n",
       " </a>,\n",
       " <a class=\"aux-item-content\" href=\"#\">\n",
       " <span class=\"aux-menu-label\">Community</span>\n",
       " </a>,\n",
       " <a class=\"aux-item-content\" href=\"https://spaceonova.com/space-guilds/\">\n",
       " <span class=\"aux-menu-label\">Space Guilds</span>\n",
       " </a>,\n",
       " <a class=\"aux-item-content\" href=\"https://spaceonova.com/space-guilds/become-space-ambassador/\">\n",
       " <span class=\"aux-menu-label\">Become Space Ambassador</span>\n",
       " </a>,\n",
       " <a class=\"aux-button aux-medium aux-carmine-pink aux-curve aux-none aux-uppercase\" href=\"https://forms.gle/TWQN5UDN8KDHu7Kv5\" target=\"_blank\"><span class=\"aux-overlay\"></span><span class=\"aux-text\">Learn Now</span></a>,\n",
       " <a href=\"https://spaceonova.com\" title=\"Home\">Home</a>,\n",
       " <a href=\"https://spaceonova.com/events/\" title=\"Events\">Events</a>,\n",
       " <a href=\"https://spaceonova.com/\">Spaceonova</a>,\n",
       " <a href=\"http://iasc.cosmosearch.org/\">IASC</a>,\n",
       " <a href=\"https://youtu.be/sjBlxJsilnA\">https://youtu.be/sjBlxJsilnA</a>,\n",
       " <a href=\"http://iasc.cosmosearch.org/Home/Astrometrica\">Astrometrica</a>,\n",
       " <a href=\"https://www.linkedin.com/in/joshi-yogeshkumar-d-5453a7a7/\">Mr. Joshi Yogeshkumar Dileepkumar</a>,\n",
       " <a href=\"https://www.youtube.com/spaceonova\">YouTube</a>,\n",
       " <a href=\"https://www.nasa.gov/planetarydefense/neoo\"> Near-Earth Object (NEO) Observations Program</a>,\n",
       " <a class=\"elementor-button-link elementor-button elementor-size-xl\" href=\"#\" role=\"button\">\n",
       " <span class=\"elementor-button-content-wrapper\">\n",
       " <span class=\"elementor-button-icon elementor-align-icon-left\">\n",
       " <i aria-hidden=\"true\" class=\"auxicon auxicon-sign-in\"></i> </span>\n",
       " <span class=\"elementor-button-text\">Registrations Now Closed</span>\n",
       " </span>\n",
       " </a>,\n",
       " <a href=\"http://iasc.cosmosearch.org/Home/Astrometrica\">here</a>,\n",
       " <a href=\"http://iasc.cosmosearch.org/Home/FAQ\">here</a>,\n",
       " <a class=\"elementor-button-link elementor-button elementor-size-xl\" href=\"#\" role=\"button\">\n",
       " <span class=\"elementor-button-content-wrapper\">\n",
       " <span class=\"elementor-button-icon elementor-align-icon-left\">\n",
       " <i aria-hidden=\"true\" class=\"auxicon auxicon-book-open\"></i> </span>\n",
       " <span class=\"elementor-button-text\">History of NSASC</span>\n",
       " </span>\n",
       " </a>,\n",
       " <a class=\"aux-logo-anchor aux-has-logo\" href=\"https://spaceonova.com/\" title=\"Space Education and Research Based Company | Spaceonova | India\"><img alt=\"spaceonova space education and exploration company\" class=\"aux-attachment aux-featured-image attachment-312x100 aux-attachment-id-103\" data-original-w=\"312\" data-ratio=\"3.12\" height=\"100\" src=\"https://spaceonova.com/wp-content/uploads/2021/08/logo-for-website-e1628318263380.png\" width=\"312\"/></a>,\n",
       " <a href=\"https://spaceonova.com/\" title=\"Space Education and Research Based Company | Spaceonova | India\">Space Education and Research Based Company | Spaceonova | India</a>,\n",
       " <a href=\"mailto:network@spaceonova.com\">network@spaceonova.com</a>,\n",
       " <a href=\"tel:+919182269974\">+91 91822 69974</a>,\n",
       " <a class=\"aux-icon-list-link\" href=\"https://spaceonova.com/space-guilds/become-space-ambassador/\"><span class=\"aux-icon-list-text\">Space Ambassador Programme</span></a>,\n",
       " <a class=\"aux-icon-list-link\" href=\"https://spaceonova.com/apply-for-internship/\"><span class=\"aux-icon-list-text\">Apply for Internships</span></a>,\n",
       " <a class=\"aux-icon-list-link\" href=\"http://blog.spaceonova.com\"><span class=\"aux-icon-list-text\">Space News</span></a>,\n",
       " <a class=\"aux-icon-list-link\" href=\"https://spaceonova.com/about-us/\"><span class=\"aux-icon-list-text\">About Us</span></a>,\n",
       " <a class=\"aux-icon-list-link\" href=\"https://spaceonova.com/services/\"><span class=\"aux-icon-list-text\">Services</span></a>,\n",
       " <a class=\"aux-icon-list-link\" href=\"https://spaceonova.com/events/\"><span class=\"aux-icon-list-text\">Events</span></a>,\n",
       " <a class=\"aux-icon-list-link\" href=\"#\"><span class=\"aux-icon-list-text\">Terms of use</span></a>,\n",
       " <a class=\"aux-icon-list-link\" href=\"#\"><span class=\"aux-icon-list-text\">Privacy Policy</span></a>,\n",
       " <a class=\"elementor-icon elementor-social-icon elementor-social-icon-facebook elementor-repeater-item-2cafb88\" target=\"_blank\">\n",
       " <span class=\"elementor-screen-only\">Facebook</span>\n",
       " <i class=\"fab fa-facebook\"></i> </a>,\n",
       " <a class=\"elementor-icon elementor-social-icon elementor-social-icon-twitter elementor-repeater-item-3427194\" target=\"_blank\">\n",
       " <span class=\"elementor-screen-only\">Twitter</span>\n",
       " <i class=\"fab fa-twitter\"></i> </a>,\n",
       " <a class=\"elementor-icon elementor-social-icon elementor-social-icon-youtube elementor-repeater-item-3861624\" target=\"_blank\">\n",
       " <span class=\"elementor-screen-only\">Youtube</span>\n",
       " <i class=\"fab fa-youtube\"></i> </a>,\n",
       " <a class=\"elementor-icon elementor-social-icon elementor-social-icon-linkedin elementor-repeater-item-0af1d3d\" target=\"_blank\">\n",
       " <span class=\"elementor-screen-only\">Linkedin</span>\n",
       " <i class=\"fab fa-linkedin\"></i> </a>,\n",
       " <a class=\"elementor-icon elementor-social-icon elementor-social-icon-instagram elementor-repeater-item-454d3d8\" target=\"_blank\">\n",
       " <span class=\"elementor-screen-only\">Instagram</span>\n",
       " <i class=\"fab fa-instagram\"></i> </a>,\n",
       " <a class=\"elementor-icon elementor-social-icon elementor-social-icon-envelope elementor-repeater-item-199f0b4\" target=\"_blank\">\n",
       " <span class=\"elementor-screen-only\">Envelope</span>\n",
       " <i class=\"fas fa-envelope\"></i> </a>]"
      ]
     },
     "execution_count": 44,
     "metadata": {},
     "output_type": "execute_result"
    }
   ],
   "source": [
    "soup.find_all('a')"
   ]
  },
  {
   "cell_type": "code",
   "execution_count": 23,
   "metadata": {},
   "outputs": [
    {
     "data": {
      "text/plain": [
       "[]"
      ]
     },
     "execution_count": 23,
     "metadata": {},
     "output_type": "execute_result"
    }
   ],
   "source": [
    "soup.find_all('li')"
   ]
  },
  {
   "cell_type": "markdown",
   "metadata": {},
   "source": [
    "# Loop"
   ]
  },
  {
   "cell_type": "code",
   "execution_count": 51,
   "metadata": {},
   "outputs": [
    {
     "name": "stdout",
     "output_type": "stream",
     "text": [
      "http://iasc.cosmosearch.org/\n",
      "http://iasc.cosmosearch.org/Home/Astrometrica\n",
      "http://iasc.cosmosearch.org/Home/Astrometrica\n",
      "http://iasc.cosmosearch.org/Home/FAQ\n"
     ]
    }
   ],
   "source": [
    "for link in soup.find_all('a'):\n",
    "    if link.get('href') != None and 'iasc' in link.get('href'):\n",
    "        print(link.get('href'))"
   ]
  },
  {
   "cell_type": "code",
   "execution_count": null,
   "metadata": {},
   "outputs": [],
   "source": []
  }
 ],
 "metadata": {
  "kernelspec": {
   "display_name": "Python 3",
   "language": "python",
   "name": "python3"
  },
  "language_info": {
   "codemirror_mode": {
    "name": "ipython",
    "version": 3
   },
   "file_extension": ".py",
   "mimetype": "text/x-python",
   "name": "python",
   "nbconvert_exporter": "python",
   "pygments_lexer": "ipython3",
   "version": "3.8.5"
  }
 },
 "nbformat": 4,
 "nbformat_minor": 4
}
